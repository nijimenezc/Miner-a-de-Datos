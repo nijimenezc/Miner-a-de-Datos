{
 "cells": [
  {
   "cell_type": "markdown",
   "metadata": {},
   "source": [
    "# <center>Regresión Lineal</center> "
   ]
  },
  {
   "cell_type": "markdown",
   "metadata": {},
   "source": [
    "# Autor\n",
    "- Nicolai Jiménez Cortés"
   ]
  },
  {
   "cell_type": "markdown",
   "metadata": {},
   "source": [
    "# Contenido\n",
    "- [Introducción](#Introducción)\n",
    "- [Breve historia](#Historia)\n",
    "- [Planteamiento del algoritmo](#Algoritmo)\n",
    "- [Ejemplo con datos reales](#Ejemplo)\n",
    "- [Conclusiones](#Conclusiones)\n",
    "- [Bibliografía](#Bibliografia)"
   ]
  },
  {
   "cell_type": "markdown",
   "metadata": {},
   "source": [
    "# Introducción\n",
    "En este cuaderno explicaremos el concepto de Regresión Lineal y como a partir de la teoria desarrolar un ejemplo con datos reales en Python."
   ]
  },
  {
   "cell_type": "markdown",
   "metadata": {},
   "source": [
    "# Historia"
   ]
  },
  {
   "cell_type": "markdown",
   "metadata": {},
   "source": [
    "El término regresión se utilizó por primera vez en el estudio de las variables del ser humano: al comparar la estatura de padres e hijos, se encontró que los padres de los niños eran mucho más altos que la estatura promedio, y los padres de los niños tendían a estar por encima del promedio. Las personas con baja estatura tienden a reducir la diferencia de estatura media; La verificación empírica posterior de este atributo ha demostrado teóricamente este fenómeno. El término lineal se utiliza para distinguirlo de otras técnicas de regresión, que utilizan un modelo basado en cualquier función matemática. El modelo lineal es una interpretación simplificada de la realidad, es más ágil y tiene un soporte teórico más amplio en matemáticas y estadística."
   ]
  },
  {
   "cell_type": "markdown",
   "metadata": {},
   "source": [
    "![Imagen](estatura.jpg)"
   ]
  },
  {
   "cell_type": "markdown",
   "metadata": {},
   "source": [
    "# Algoritmo"
   ]
  },
  {
   "cell_type": "markdown",
   "metadata": {},
   "source": [
    "El algoritmo consiste en obtener una ecuación de la forma $$ y=mx+b $$ es decir \"una recta\" que se ajuste de la mejor manera a los datos que tenemos.$$ $$\n",
    "Tenemos lo siguiente: $$ m= \\frac{\\sum x \\sum y - n \\sum(xy)}{(\\sum x)^2-n\\sum x^2} $$\n",
    "y $$ b=\\bar{y}-m \\bar{x} $$\n",
    "El coeficiente de correlación se calcula como:\n",
    "$$ R=\\frac{\\sigma_{xy}}{\\sigma_x \\sigma_y} $$\n",
    "donde\n",
    "$$ \\sigma_{x}=\\sqrt{\\frac{\\sum(x^2)}{n}-\\bar{x}^{2}} $$\n",
    "$$ \\sigma_{y}=\\sqrt{\\frac{\\sum(y^2)}{n}-\\bar{y}^{2}} $$\n",
    "$$ \\sigma_{xy}=\\frac{\\sum(xy)}{n}-\\bar{x}\\bar{y} $$\n",
    "a partir de esto desarrollemos un ejemplo en Python."
   ]
  },
  {
   "cell_type": "markdown",
   "metadata": {},
   "source": [
    "# Ejemplo "
   ]
  },
  {
   "cell_type": "markdown",
   "metadata": {},
   "source": [
    "Para este ejemplo usaremos un resumen de una [base de datos](http://bit.ly/2CK0Auz) sobre informacion de peliculas, para determinar la relación que tienen el numero de likes en Facebook y su calificación en IBM."
   ]
  },
  {
   "cell_type": "code",
   "execution_count": 66,
   "metadata": {},
   "outputs": [],
   "source": [
    "import pandas as pd #importar librerias importantes\n",
    "import numpy as np\n",
    "import matplotlib.pyplot as plt\n",
    "from sklearn import linear_model\n",
    "from sklearn.metrics import r2_score"
   ]
  },
  {
   "cell_type": "code",
   "execution_count": 43,
   "metadata": {},
   "outputs": [],
   "source": [
    "regr=linear_model.LinearRegression() #nueva variable para el modelo lineal"
   ]
  },
  {
   "cell_type": "code",
   "execution_count": 55,
   "metadata": {},
   "outputs": [
    {
     "name": "stdout",
     "output_type": "stream",
     "text": [
      "    num  color      director_name  num_critic_for_reviews  duration  \\\n",
      "0     1  Color      James Cameron                   723.0     178.0   \n",
      "1     2  Color     Gore Verbinski                   302.0     169.0   \n",
      "2     3  Color         Sam Mendes                   602.0     148.0   \n",
      "3     4  Color  Christopher Nolan                   813.0     164.0   \n",
      "4     5  Color        Doug Walker                     NaN       NaN   \n",
      "5     6  Color     Andrew Stanton                   462.0     132.0   \n",
      "6     7  Color          Sam Raimi                   392.0     156.0   \n",
      "7     8  Color       Nathan Greno                   324.0     100.0   \n",
      "8     9  Color        Joss Whedon                   635.0     141.0   \n",
      "9    10  Color        David Yates                   375.0     153.0   \n",
      "10   11  Color        Zack Snyder                   673.0     183.0   \n",
      "11   12  Color       Bryan Singer                   434.0     169.0   \n",
      "12   13  Color       Marc Forster                   403.0     106.0   \n",
      "13   14  Color     Gore Verbinski                   313.0     151.0   \n",
      "14   15  Color     Gore Verbinski                   450.0     150.0   \n",
      "\n",
      "    director_facebook_likes  actor_3_facebook_likes       actor_2_name  \\\n",
      "0                         0                   855.0   Joel David Moore   \n",
      "1                       563                  1000.0      Orlando Bloom   \n",
      "2                         0                   161.0       Rory Kinnear   \n",
      "3                     22000                 23000.0     Christian Bale   \n",
      "4                       131                     NaN         Rob Walker   \n",
      "5                       475                   530.0    Samantha Morton   \n",
      "6                         0                  4000.0       James Franco   \n",
      "7                        15                   284.0       Donna Murphy   \n",
      "8                         0                 19000.0  Robert Downey Jr.   \n",
      "9                       282                 10000.0   Daniel Radcliffe   \n",
      "10                        0                  2000.0       Lauren Cohan   \n",
      "11                        0                   903.0      Marlon Brando   \n",
      "12                      395                   393.0    Mathieu Amalric   \n",
      "13                      563                  1000.0      Orlando Bloom   \n",
      "14                      563                  1000.0        Ruth Wilson   \n",
      "\n",
      "    actor_1_facebook_likes        gross  ... num_user_for_reviews language  \\\n",
      "0                     1000  760505847.0  ...               3054.0  English   \n",
      "1                    40000  309404152.0  ...               1238.0  English   \n",
      "2                    11000  200074175.0  ...                994.0  English   \n",
      "3                    27000  448130642.0  ...               2701.0  English   \n",
      "4                      131          NaN  ...                  NaN      NaN   \n",
      "5                      640   73058679.0  ...                738.0  English   \n",
      "6                    24000  336530303.0  ...               1902.0  English   \n",
      "7                      799  200807262.0  ...                387.0  English   \n",
      "8                    26000  458991599.0  ...               1117.0  English   \n",
      "9                    25000  301956980.0  ...                973.0  English   \n",
      "10                   15000  330249062.0  ...               3018.0  English   \n",
      "11                   18000  200069408.0  ...               2367.0  English   \n",
      "12                     451  168368427.0  ...               1243.0  English   \n",
      "13                   40000  423032628.0  ...               1832.0  English   \n",
      "14                   40000   89289910.0  ...                711.0  English   \n",
      "\n",
      "   country  content_rating       budget title_year  actor_2_facebook_likes  \\\n",
      "0      USA           PG-13  237000000.0     2009.0                     936   \n",
      "1      USA           PG-13  300000000.0     2007.0                    5000   \n",
      "2       UK           PG-13  245000000.0     2015.0                     393   \n",
      "3      USA           PG-13  250000000.0     2012.0                   23000   \n",
      "4      NaN             NaN          NaN        NaN                      12   \n",
      "5      USA           PG-13  263700000.0     2012.0                     632   \n",
      "6      USA           PG-13  258000000.0     2007.0                   11000   \n",
      "7      USA              PG  260000000.0     2010.0                     553   \n",
      "8      USA           PG-13  250000000.0     2015.0                   21000   \n",
      "9       UK              PG  250000000.0     2009.0                   11000   \n",
      "10     USA           PG-13  250000000.0     2016.0                    4000   \n",
      "11     USA           PG-13  209000000.0     2006.0                   10000   \n",
      "12      UK           PG-13  200000000.0     2008.0                     412   \n",
      "13     USA           PG-13  225000000.0     2006.0                    5000   \n",
      "14     USA           PG-13  215000000.0     2013.0                    2000   \n",
      "\n",
      "   imdb_score aspect_ratio  movie_facebook_likes  \n",
      "0         7.9         1.78                 33000  \n",
      "1         7.1         2.35                     0  \n",
      "2         6.8         2.35                 85000  \n",
      "3         8.5         2.35                164000  \n",
      "4         7.1          NaN                     0  \n",
      "5         6.6         2.35                 24000  \n",
      "6         6.2         2.35                     0  \n",
      "7         7.8         1.85                 29000  \n",
      "8         7.5         2.35                118000  \n",
      "9         7.5         2.35                 10000  \n",
      "10        6.9         2.35                197000  \n",
      "11        6.1         2.35                     0  \n",
      "12        6.7         2.35                     0  \n",
      "13        7.3         2.35                  5000  \n",
      "14        6.5         2.35                 48000  \n",
      "\n",
      "[15 rows x 29 columns]\n"
     ]
    }
   ],
   "source": [
    "datos=pd.read_csv('movies2 (1).csv') #nueva variable con los datos que vamos a usar, usando la libreria pandas\n",
    "datos.shape\n",
    "print(datos)"
   ]
  },
  {
   "cell_type": "code",
   "execution_count": 56,
   "metadata": {},
   "outputs": [],
   "source": [
    "df=pd.DataFrame(datos) "
   ]
  },
  {
   "cell_type": "code",
   "execution_count": 57,
   "metadata": {},
   "outputs": [],
   "source": [
    "x=df[\"movie_facebook_likes\"]"
   ]
  },
  {
   "cell_type": "code",
   "execution_count": 58,
   "metadata": {},
   "outputs": [],
   "source": [
    "y=df['imdb_score']"
   ]
  },
  {
   "cell_type": "code",
   "execution_count": 59,
   "metadata": {},
   "outputs": [
    {
     "name": "stdout",
     "output_type": "stream",
     "text": [
      "[[ 33000]\n",
      " [     0]\n",
      " [ 85000]\n",
      " [164000]\n",
      " [     0]\n",
      " [ 24000]\n",
      " [     0]\n",
      " [ 29000]\n",
      " [118000]\n",
      " [ 10000]\n",
      " [197000]\n",
      " [     0]\n",
      " [     0]\n",
      " [  5000]\n",
      " [ 48000]]\n"
     ]
    }
   ],
   "source": [
    "X=x[:,np.newaxis]\n",
    "print(X)"
   ]
  },
  {
   "cell_type": "code",
   "execution_count": 61,
   "metadata": {},
   "outputs": [
    {
     "name": "stdout",
     "output_type": "stream",
     "text": [
      "LinearRegression(copy_X=True, fit_intercept=True, n_jobs=None, normalize=False)\n",
      "[3.84816446e-06]\n",
      "y=3.8481644646998285e-06*x+6.917083915777934\n"
     ]
    }
   ],
   "source": [
    "print(regr.fit(X,y))\n",
    "print(regr.coef_)\n",
    "m=regr.coef_[0]\n",
    "b=regr.intercept_\n",
    "print('y={0}*x+{1}'.format(m,b))"
   ]
  },
  {
   "cell_type": "code",
   "execution_count": 62,
   "metadata": {},
   "outputs": [
    {
     "name": "stdout",
     "output_type": "stream",
     "text": [
      "[7.04407334 6.91708392 7.2441779  7.54818289 6.91708392]\n"
     ]
    }
   ],
   "source": [
    "#predecir los 5 primeros datos de y\n",
    "print(regr.predict(X)[0:5])"
   ]
  },
  {
   "cell_type": "code",
   "execution_count": 64,
   "metadata": {},
   "outputs": [
    {
     "name": "stdout",
     "output_type": "stream",
     "text": [
      "El valor de r^2:  0.13918361083362363\n"
     ]
    }
   ],
   "source": [
    "y_p=m*X+b\n",
    "print(\"El valor de r^2: \", r2_score(y,y_p))"
   ]
  },
  {
   "cell_type": "code",
   "execution_count": 68,
   "metadata": {},
   "outputs": [
    {
     "data": {
      "text/plain": [
       "Text(0, 0.5, 'Calificación IMDB')"
      ]
     },
     "execution_count": 68,
     "metadata": {},
     "output_type": "execute_result"
    },
    {
     "data": {
      "image/png": "[encoded data removed]",
      "text/plain": [
       "<Figure size 432x288 with 1 Axes>"
      ]
     },
     "metadata": {
      "needs_background": "light"
     },
     "output_type": "display_data"
    }
   ],
   "source": [
    "plt.scatter(x,y,color='blue')\n",
    "plt.plot(x,y_p,color='red')\n",
    "plt.title('Regresión lineal',fontsize=16)\n",
    "plt.xlabel('likes Facebook',fontsize=13)\n",
    "plt.ylabel('Calificación IMDB',fontsize=13)"
   ]
  },
  {
   "cell_type": "markdown",
   "metadata": {},
   "source": [
    "# Conclusiones"
   ]
  },
  {
   "cell_type": "markdown",
   "metadata": {},
   "source": [
    "El modelo de Regresion implementado en este cuaderno puede no ser el más complicado, pero ha pesar de su sencillez es muy util para la prediccion de datos, usando librerias como numpy y matplotlib podemos hacer más dinamica y visual la explicacion de el modelo implementado.\n",
    "\n",
    "Es importante aprender a hacer este tipo de modelos en Python dada su utilidad de prediccion muy usada en la actualidad.\n"
   ]
  },
  {
   "cell_type": "markdown",
   "metadata": {},
   "source": [
    "# Bibliografia"
   ]
  },
  {
   "cell_type": "markdown",
   "metadata": {},
   "source": [
    "- https://www.aprendemachinelearning.com/regresion-lineal-en-espanol-con-python/\n",
    "- https://www.youtube.com/watch?v=b4zmSqB9npI\n",
    "- [Base de datos completa usada en el ejemplo](https://www.kaggle.com/PromptCloudHQ/imdb-data/data)\n",
    "- https://es.wikipedia.org/wiki/Regresi%C3%B3n_lineal"
   ]
  },
  {
   "cell_type": "code",
   "execution_count": null,
   "metadata": {},
   "outputs": [],
   "source": []
  }
 ],
 "metadata": {
  "kernelspec": {
   "display_name": "Python 3",
   "language": "python",
   "name": "python3"
  },
  "language_info": {
   "codemirror_mode": {
    "name": "ipython",
    "version": 3
   },
   "file_extension": ".py",
   "mimetype": "text/x-python",
   "name": "python",
   "nbconvert_exporter": "python",
   "pygments_lexer": "ipython3",
   "version": "3.7.4"
  }
 },
 "nbformat": 4,
 "nbformat_minor": 2
}
